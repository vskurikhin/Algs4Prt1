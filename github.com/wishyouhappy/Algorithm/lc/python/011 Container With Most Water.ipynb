{
 "cells": [
  {
   "cell_type": "markdown",
   "metadata": {},
   "source": [
    "## Container With Most Water\n",
    "\n",
    "Given $n$ non-negative integers $a_1$, $a_2$, ..., $a_n$, where each represents a point at coordinate ($i$, $a_j$).\n",
    "$n$ vertical lines are drawn such that the two endpoints of line $i$ is at ($i$, $a_j$) and ($i$, $0$).\n",
    "Find two lines, which together with x-axis forms a container, such that the container contains the most water.\n",
    "\n",
    "Note: You may not slant the container."
   ]
  },
  {
   "cell_type": "markdown",
   "metadata": {},
   "source": [
    "### Brute force\n",
    "\n",
    "Simply loop over all integers by two pointers and find the max volume they have.\n",
    "\n",
    "There are $n$ integers. \n",
    "For the $i_{th}$ run, it will takes $T(i) = n - i$ to run.\n",
    "In total it will have\n",
    "$T = \\frac{n(n-1)}{2} = O(n^2)$ of time complexity."
   ]
  },
  {
   "cell_type": "code",
   "execution_count": null,
   "metadata": {
    "collapsed": true
   },
   "outputs": [],
   "source": [
    "class Solution(object):\n",
    "    def maxArea(self, height):\n",
    "        if not height or len(height) <= 1: return 0\n",
    "        \n",
    "        max = 0\n",
    "        for i in xrange(len(height) - 1):\n",
    "            for j in xrange(1, len(height)):\n",
    "                vol = min(i, j) * (j - 1)\n",
    "                if vol > max: max = vol\n",
    "        \n",
    "        return max"
   ]
  },
  {
   "cell_type": "markdown",
   "metadata": {},
   "source": [
    "### Better Way\n",
    "\n",
    "First, let $i$ and $j$ be the left most and right most lines and $most = 0$.\n",
    "\n",
    "Let $most = Min(i, j) \\times (j - i)$ if the right side is larger.\n",
    "Then move the cursor of $i$ or $j$. If $i$ is smaller, let $i = i + 1$.\n",
    "Otherwise, let $j = j - 1$.\n",
    "Repeat until $i = j$.\n",
    "Then $most$ is the most water that containers can be stored with two lines."
   ]
  },
  {
   "cell_type": "code",
   "execution_count": null,
   "metadata": {
    "collapsed": true
   },
   "outputs": [],
   "source": [
    "class Solution(object):\n",
    "    def maxArea(self, height):\n",
    "        if not height or len(height) <= 1: return 0\n",
    "\n",
    "        L, R, MAX = 0, len(height) - 1, 0\n",
    "        while L < R:\n",
    "            MAX = max(\n",
    "                MAX,\n",
    "                min(height[L], height[R]) * (R - L))\n",
    "\n",
    "            if height[R] > height[L]: L += 1\n",
    "            else: R -= 1\n",
    "\n",
    "        return MAX"
   ]
  },
  {
   "cell_type": "markdown",
   "metadata": {},
   "source": [
    "#### Correctness\n",
    "\n",
    "Each time we move $i$ or $j$, we will always have the $most_{new} \\geq most_{previous}$.\n",
    "\n",
    "But each time there is two options to move, one is move $i$ right by $1$, another is move $j$ left by $1$.\n",
    "The strategy is to move the smaller one.\n",
    "\n",
    "Now suppose $i < j$. \n",
    "\n",
    "$ vol = i \\times (j - i) $\n",
    "\n",
    "$ i' = i + 1 $\n",
    "\n",
    "$ vol' = i' \\times (j - i') = (i + 1) \\times (j - i - 1) $\n",
    "\n",
    "$ vol' - vol = (i + 1) \\times (j - i - 1) - i \\times (j - i) = (i + 1) \\times (j - i) - i - 1 - i \\times (j - i)$\n",
    "\n",
    "$ = 1 \\times (j - i) - i - 1 = j - 2i - 1 $\n",
    "\n",
    "If $j > 2i + 1$, then the volumn is increased.\n",
    "\n",
    "Now suppose we move $j$ instead of moving $i$.\n",
    "\n",
    "$ vol = i \\times (j - 1) $\n",
    "\n",
    "$ j' = j - 1 $\n",
    "\n",
    "$ vol' = i \\times (j' - i) = i \\times (j - i - 1) $\n",
    "\n",
    "$ vol' - vol = i \\times (j - i - 1) - i \\times (j - i) = - i < 0 $\n",
    "\n",
    "So if we move the higher integer by $1$, the amount of volumn won't be able to increase. So we move the lower interger."
   ]
  }
 ],
 "metadata": {
  "kernelspec": {
   "display_name": "Python 2",
   "language": "python",
   "name": "python2"
  },
  "language_info": {
   "codemirror_mode": {
    "name": "ipython",
    "version": 2
   },
   "file_extension": ".py",
   "mimetype": "text/x-python",
   "name": "python",
   "nbconvert_exporter": "python",
   "pygments_lexer": "ipython2",
   "version": "2.7.10"
  }
 },
 "nbformat": 4,
 "nbformat_minor": 0
}
