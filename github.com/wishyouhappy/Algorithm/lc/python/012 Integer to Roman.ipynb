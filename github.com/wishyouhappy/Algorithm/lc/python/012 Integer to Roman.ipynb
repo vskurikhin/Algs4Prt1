{
 "cells": [
  {
   "cell_type": "markdown",
   "metadata": {},
   "source": [
    "## Integer to Roman\n",
    "\n",
    "[Go to problem](https://leetcode.com/problems/integer-to-roman/)\n",
    "\n",
    "Given an integer, convert it to a roman numerical.\n",
    "\n",
    "Input is guaranteed to be within the range from 1 to 3999."
   ]
  },
  {
   "cell_type": "markdown",
   "metadata": {},
   "source": [
    "### Solution\n",
    "\n",
    "The roman numbers are:\n",
    "\n",
    "* $1 = I$\n",
    "* $5 = V$\n",
    "* $10 = X$\n",
    "* $50 = L$\n",
    "* $100 = C$\n",
    "* $500 = D$\n",
    "* $1000 = M$\n",
    "\n",
    "If there is a $4$, then give a $1$ followed by $5$.\n",
    "\n",
    "* $4 = IV$\n",
    "* $40 = XL$\n",
    "* ...\n",
    "\n",
    "If there is a $6$, then give a $5$ followed by $1$.\n",
    "\n",
    "* $6 = VI$\n",
    "* $600 = DC$\n",
    "\n",
    "If there is a $9$, then give a $1$ followed by $10$.\n",
    "\n",
    "* $90 = XC$\n",
    "* $900 = CM$\n",
    "\n",
    "For $1 ~ 3$, just $1 ~ 3$ roman $1$s:\n",
    "\n",
    "* $3 = III$\n",
    "* $20 = XX$\n",
    "* $7 = VII$"
   ]
  },
  {
   "cell_type": "code",
   "execution_count": null,
   "metadata": {
    "collapsed": true
   },
   "outputs": [],
   "source": [
    "class Solution(object):\n",
    "    def collect(self, c1, c5, c10, sz):\n",
    "        N = self.num / sz\n",
    "        self.num %= sz\n",
    "        \n",
    "        if N == 9:\n",
    "            self.char += \"%s%s\" % (c1, c10)\n",
    "            return\n",
    "        \n",
    "        if N == 5:\n",
    "            self.char += c5\n",
    "            return\n",
    "        \n",
    "        if N == 4:\n",
    "            self.char += \"%s%s\" % (c1, c5)\n",
    "            return\n",
    "        \n",
    "        self.char += \"%s%s\" % (c5 if N > 5 else \"\",\n",
    "                               c1 * (N - 5 if N > 5 else N))\n",
    "    \n",
    "    def intToRoman(self, num):\n",
    "        \"\"\"\n",
    "        :type num: int\n",
    "        :rtype: str\n",
    "        \"\"\"\n",
    "        if num < 1 or num > 3999:\n",
    "            return None\n",
    "    \n",
    "        self.char = \"M\" * (num / 1000)\n",
    "        self.num = num % 1000\n",
    "\n",
    "        self.collect(\"C\", \"D\", \"M\", 100)\n",
    "        self.collect(\"X\", \"L\", \"C\", 10)\n",
    "        self.collect(\"I\", \"V\", \"X\", 1)\n",
    "        \n",
    "        return self.char"
   ]
  }
 ],
 "metadata": {
  "kernelspec": {
   "display_name": "Python 2",
   "language": "python",
   "name": "python2"
  },
  "language_info": {
   "codemirror_mode": {
    "name": "ipython",
    "version": 2
   },
   "file_extension": ".py",
   "mimetype": "text/x-python",
   "name": "python",
   "nbconvert_exporter": "python",
   "pygments_lexer": "ipython2",
   "version": "2.7.10"
  }
 },
 "nbformat": 4,
 "nbformat_minor": 0
}
